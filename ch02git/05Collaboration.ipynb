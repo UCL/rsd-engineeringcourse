{
 "cells": [
  {
   "cell_type": "markdown",
   "metadata": {},
   "source": [
    "## Collaboration\n",
    "\n",
    "### Form a team"
   ]
  },
  {
   "cell_type": "markdown",
   "metadata": {},
   "source": [
    "Now we're going to get to the most important question of all with Git and GitHub: working with others.\n",
    "\n",
    "Organise into pairs. You're going to be working on the website of one of the two of you, together, so decide who is going to be the leader, and who the collaborator."
   ]
  },
  {
   "cell_type": "markdown",
   "metadata": {},
   "source": [
    "### Giving permission\n",
    "\n",
    "The leader needs to let the collaborator have the right to make changes to his code.\n",
    "\n",
    "In GitHub, go to `settings` on the right, then `collaborators` on the left.\n",
    "\n",
    "Add the user name of your collaborator to the box. They now have the right to push to your repository."
   ]
  },
  {
   "cell_type": "markdown",
   "metadata": {},
   "source": [
    "### Obtaining a colleague's code\n",
    "\n",
    "Next, the collaborator needs to get a copy of the leader's code. For this example notebook,\n",
    "I'm going to be collaborating with myself, swapping between my two repositories.\n",
    "Make yourself a space to put it your work. (I will have two)"
   ]
  },
  {
   "cell_type": "code",
   "execution_count": 1,
   "metadata": {
    "collapsed": true
   },
   "outputs": [],
   "source": [
    "import os\n",
    "top_dir = os.getcwd()\n",
    "git_dir = os.path.join(top_dir, 'learning_git')\n",
    "working_dir=os.path.join(git_dir, 'git_example')\n",
    "os.chdir(git_dir)"
   ]
  },
  {
   "cell_type": "code",
   "execution_count": 2,
   "metadata": {
    "collapsed": false
   },
   "outputs": [
    {
     "name": "stdout",
     "output_type": "stream",
     "text": [
      "/Users/jamespjh/devel/rsdt/rsd-engineeringcourse/ch02git/learning_git\n"
     ]
    }
   ],
   "source": [
    "%%bash\n",
    "pwd\n",
    "rm -rf github-example # cleanup after previous example\n",
    "rm -rf partner_dir # cleanup after previous example\n"
   ]
  },
  {
   "cell_type": "markdown",
   "metadata": {},
   "source": [
    "Next, the collaborator needs to find out the URL of the repository: they should go to the leader's repository's GitHub page, and note the URL on the top of the screen. Make sure the \"ssh\" button is pushed, the URL should begin with `git@github.com`. \n",
    "\n",
    "Copy the URL into your clipboard by clicking on the icon to the right of the URL, and then:"
   ]
  },
  {
   "cell_type": "code",
   "execution_count": 3,
   "metadata": {
    "attributes": {
     "classes": [
      " Bash"
     ],
     "id": ""
    },
    "collapsed": false
   },
   "outputs": [
    {
     "name": "stdout",
     "output_type": "stream",
     "text": [
      "/Users/jamespjh/devel/rsdt/rsd-engineeringcourse/ch02git/learning_git\n"
     ]
    },
    {
     "name": "stderr",
     "output_type": "stream",
     "text": [
      "Cloning into 'github-example'...\n"
     ]
    }
   ],
   "source": [
    "%%bash\n",
    "pwd\n",
    "git clone git@github.com:UCL/github-example.git\n",
    "mv github-example partner_dir"
   ]
  },
  {
   "cell_type": "code",
   "execution_count": 4,
   "metadata": {
    "collapsed": true
   },
   "outputs": [],
   "source": [
    "partner_dir=os.path.join(git_dir, 'partner_dir')\n",
    "os.chdir(partner_dir)"
   ]
  },
  {
   "cell_type": "code",
   "execution_count": 5,
   "metadata": {
    "collapsed": false
   },
   "outputs": [
    {
     "name": "stdout",
     "output_type": "stream",
     "text": [
      "/Users/jamespjh/devel/rsdt/rsd-engineeringcourse/ch02git/learning_git/partner_dir\n",
      "index.md\n",
      "lakeland.md\n"
     ]
    }
   ],
   "source": [
    "%%bash\n",
    "pwd\n",
    "ls"
   ]
  },
  {
   "cell_type": "markdown",
   "metadata": {},
   "source": [
    "Note that your partner's files are now present on your disk:"
   ]
  },
  {
   "cell_type": "code",
   "execution_count": 6,
   "metadata": {
    "collapsed": false
   },
   "outputs": [
    {
     "name": "stdout",
     "output_type": "stream",
     "text": [
      "Lakeland  \n",
      "========   \n",
      "  \n",
      "Cumbria has some pretty hills, and lakes too\n",
      "\n",
      "Mountains:\n",
      "* Helvellyn"
     ]
    }
   ],
   "source": [
    "%%bash\n",
    "cat lakeland.md"
   ]
  },
  {
   "cell_type": "markdown",
   "metadata": {},
   "source": [
    "### Nonconflicting changes\n",
    "\n",
    "Now, both of you should make some changes. To start with, make changes to *different* files. This will mean your work doesn't \"conflict\". Later, we'll see how to deal with changes to a shared file."
   ]
  },
  {
   "cell_type": "markdown",
   "metadata": {},
   "source": [
    "Both of you should commit, but not push, your changes to your respective files:"
   ]
  },
  {
   "cell_type": "markdown",
   "metadata": {},
   "source": [
    "E.g., the leader:"
   ]
  },
  {
   "cell_type": "code",
   "execution_count": 7,
   "metadata": {
    "collapsed": true
   },
   "outputs": [],
   "source": [
    "os.chdir(working_dir)"
   ]
  },
  {
   "cell_type": "code",
   "execution_count": 8,
   "metadata": {
    "collapsed": false
   },
   "outputs": [
    {
     "name": "stdout",
     "output_type": "stream",
     "text": [
      "Writing Wales.md\n"
     ]
    }
   ],
   "source": [
    "%%writefile Wales.md\n",
    "Mountains In Wales\n",
    "==================\n",
    "\n",
    "* Tryfan\n",
    "* Yr Wyddfa"
   ]
  },
  {
   "cell_type": "code",
   "execution_count": 9,
   "metadata": {
    "collapsed": false
   },
   "outputs": [
    {
     "name": "stdout",
     "output_type": "stream",
     "text": [
      "Wales.md\n",
      "index.md\n",
      "lakeland.md\n",
      "wsd.py\n",
      "wsd.pyc\n"
     ]
    }
   ],
   "source": [
    "%%bash\n",
    "ls"
   ]
  },
  {
   "cell_type": "code",
   "execution_count": 10,
   "metadata": {
    "collapsed": false
   },
   "outputs": [
    {
     "name": "stdout",
     "output_type": "stream",
     "text": [
      "[master d7d7243] Add wales\n",
      " 1 file changed, 5 insertions(+)\n",
      " create mode 100644 Wales.md\n"
     ]
    }
   ],
   "source": [
    "%%bash\n",
    "git add Wales.md\n",
    "git commit -m \"Add wales\""
   ]
  },
  {
   "cell_type": "markdown",
   "metadata": {},
   "source": [
    "And the partner:"
   ]
  },
  {
   "cell_type": "code",
   "execution_count": 11,
   "metadata": {
    "collapsed": true
   },
   "outputs": [],
   "source": [
    "os.chdir(partner_dir)"
   ]
  },
  {
   "cell_type": "code",
   "execution_count": 12,
   "metadata": {
    "collapsed": false
   },
   "outputs": [
    {
     "name": "stdout",
     "output_type": "stream",
     "text": [
      "Writing Scotland.md\n"
     ]
    }
   ],
   "source": [
    "%%writefile Scotland.md\n",
    "Mountains In Scotland\n",
    "==================\n",
    "\n",
    "* Ben Eighe\n",
    "* Cairngorm"
   ]
  },
  {
   "cell_type": "code",
   "execution_count": 13,
   "metadata": {
    "collapsed": false
   },
   "outputs": [
    {
     "name": "stdout",
     "output_type": "stream",
     "text": [
      "Scotland.md\n",
      "index.md\n",
      "lakeland.md\n"
     ]
    }
   ],
   "source": [
    "%%bash\n",
    "ls"
   ]
  },
  {
   "cell_type": "code",
   "execution_count": 14,
   "metadata": {
    "collapsed": false
   },
   "outputs": [
    {
     "name": "stdout",
     "output_type": "stream",
     "text": [
      "[master aed6a4d] Add Scotland\n",
      " 1 file changed, 5 insertions(+)\n",
      " create mode 100644 Scotland.md\n"
     ]
    }
   ],
   "source": [
    "%%bash\n",
    "git add Scotland.md\n",
    "git commit -m \"Add Scotland\""
   ]
  },
  {
   "cell_type": "markdown",
   "metadata": {},
   "source": [
    "One of you should now push with `git push`:"
   ]
  },
  {
   "cell_type": "code",
   "execution_count": 15,
   "metadata": {
    "collapsed": false
   },
   "outputs": [
    {
     "name": "stderr",
     "output_type": "stream",
     "text": [
      "To git@github.com:UCL/github-example.git\n",
      "   79b1285..aed6a4d  master -> master\n"
     ]
    }
   ],
   "source": [
    "%%bash\n",
    "git push"
   ]
  },
  {
   "cell_type": "markdown",
   "metadata": {},
   "source": [
    "### Rejected push"
   ]
  },
  {
   "cell_type": "markdown",
   "metadata": {},
   "source": [
    "The other should then push, but should receive an error message:"
   ]
  },
  {
   "cell_type": "code",
   "execution_count": 16,
   "metadata": {
    "collapsed": true
   },
   "outputs": [],
   "source": [
    "os.chdir(working_dir)"
   ]
  },
  {
   "cell_type": "code",
   "execution_count": 17,
   "metadata": {
    "collapsed": false
   },
   "outputs": [
    {
     "name": "stderr",
     "output_type": "stream",
     "text": [
      "To git@github.com:UCL/github-example.git\n",
      " ! [rejected]        master -> master (fetch first)\n",
      "error: failed to push some refs to 'git@github.com:UCL/github-example.git'\n",
      "hint: Updates were rejected because the remote contains work that you do\n",
      "hint: not have locally. This is usually caused by another repository pushing\n",
      "hint: to the same ref. You may want to first integrate the remote changes\n",
      "hint: (e.g., 'git pull ...') before pushing again.\n",
      "hint: See the 'Note about fast-forwards' in 'git push --help' for details.\n"
     ]
    }
   ],
   "source": [
    "%%bash\n",
    "git push"
   ]
  },
  {
   "cell_type": "markdown",
   "metadata": {},
   "source": [
    "Do as it suggests:"
   ]
  },
  {
   "cell_type": "code",
   "execution_count": 18,
   "metadata": {
    "collapsed": false
   },
   "outputs": [
    {
     "name": "stdout",
     "output_type": "stream",
     "text": [
      "Merge made by the 'recursive' strategy.\n",
      " Scotland.md | 5 +++++\n",
      " 1 file changed, 5 insertions(+)\n",
      " create mode 100644 Scotland.md\n"
     ]
    },
    {
     "name": "stderr",
     "output_type": "stream",
     "text": [
      "From github.com:UCL/github-example\n",
      "   79b1285..aed6a4d  master     -> origin/master\n",
      " * [new branch]      gh-pages   -> origin/gh-pages\n"
     ]
    }
   ],
   "source": [
    "%%bash\n",
    "git pull"
   ]
  },
  {
   "cell_type": "markdown",
   "metadata": {},
   "source": [
    "### Merge commits\n",
    "\n",
    "A window may pop up with a suggested default commit message. This commit is special: it is a *merge* commit. It is a commit which combines your collaborator's work with your own."
   ]
  },
  {
   "cell_type": "markdown",
   "metadata": {},
   "source": [
    "Now, push again with `git push`. This time it works. If you look on GitHub, you'll now see that it contains both sets of changes."
   ]
  },
  {
   "cell_type": "code",
   "execution_count": 19,
   "metadata": {
    "collapsed": false
   },
   "outputs": [
    {
     "name": "stderr",
     "output_type": "stream",
     "text": [
      "To git@github.com:UCL/github-example.git\n",
      "   aed6a4d..4bc25e9  master -> master\n"
     ]
    }
   ],
   "source": [
    "%%bash\n",
    "git push"
   ]
  },
  {
   "cell_type": "markdown",
   "metadata": {},
   "source": [
    "The partner now needs to pull down that commit:"
   ]
  },
  {
   "cell_type": "code",
   "execution_count": 20,
   "metadata": {
    "collapsed": true
   },
   "outputs": [],
   "source": [
    "os.chdir(partner_dir)"
   ]
  },
  {
   "cell_type": "code",
   "execution_count": 21,
   "metadata": {
    "collapsed": false
   },
   "outputs": [
    {
     "name": "stdout",
     "output_type": "stream",
     "text": [
      "Updating aed6a4d..4bc25e9\n",
      "Fast-forward\n",
      " Wales.md | 5 +++++\n",
      " 1 file changed, 5 insertions(+)\n",
      " create mode 100644 Wales.md\n"
     ]
    },
    {
     "name": "stderr",
     "output_type": "stream",
     "text": [
      "From github.com:UCL/github-example\n",
      "   aed6a4d..4bc25e9  master     -> origin/master\n"
     ]
    }
   ],
   "source": [
    "%%bash\n",
    "git pull"
   ]
  },
  {
   "cell_type": "code",
   "execution_count": 22,
   "metadata": {
    "collapsed": false
   },
   "outputs": [
    {
     "name": "stdout",
     "output_type": "stream",
     "text": [
      "Scotland.md\n",
      "Wales.md\n",
      "index.md\n",
      "lakeland.md\n"
     ]
    }
   ],
   "source": [
    "%%bash\n",
    "ls"
   ]
  },
  {
   "cell_type": "markdown",
   "metadata": {},
   "source": [
    "### Nonconflicted commits to the same file\n",
    "\n",
    "Go through the whole process again, but this time, both of you should make changes to a single file, but make sure that you don't touch the same *line*. Again, the merge should work as before:"
   ]
  },
  {
   "cell_type": "code",
   "execution_count": 23,
   "metadata": {
    "collapsed": false
   },
   "outputs": [
    {
     "name": "stdout",
     "output_type": "stream",
     "text": [
      "Overwriting Wales.md\n"
     ]
    }
   ],
   "source": [
    "%%writefile Wales.md\n",
    "Mountains In Wales\n",
    "==================\n",
    "\n",
    "* Tryfan\n",
    "* Snowdon"
   ]
  },
  {
   "cell_type": "code",
   "execution_count": 24,
   "metadata": {
    "collapsed": false
   },
   "outputs": [
    {
     "name": "stdout",
     "output_type": "stream",
     "text": [
      "diff --git i/Wales.md w/Wales.md\n",
      "index 3809c69..e2ca555 100644\n",
      "--- i/Wales.md\n",
      "+++ w/Wales.md\n",
      "@@ -2,4 +2,4 @@ Mountains In Wales\n",
      " ==================\n",
      " \n",
      " * Tryfan\n",
      "-* Yr Wyddfa\n",
      "\\ No newline at end of file\n",
      "+* Snowdon\n",
      "\\ No newline at end of file\n"
     ]
    }
   ],
   "source": [
    "%%bash\n",
    "git diff"
   ]
  },
  {
   "cell_type": "code",
   "execution_count": 25,
   "metadata": {
    "collapsed": false
   },
   "outputs": [
    {
     "name": "stdout",
     "output_type": "stream",
     "text": [
      "[master b7eba49] Translating from the Welsh\n",
      " 1 file changed, 1 insertion(+), 1 deletion(-)\n"
     ]
    }
   ],
   "source": [
    "%%bash\n",
    "git commit -am \"Translating from the Welsh\""
   ]
  },
  {
   "cell_type": "code",
   "execution_count": 26,
   "metadata": {
    "collapsed": false
   },
   "outputs": [
    {
     "name": "stdout",
     "output_type": "stream",
     "text": [
      "b7eba49 Translating from the Welsh\n",
      "4bc25e9 Merge branch 'master' of github.com:UCL/github-example\n",
      "d7d7243 Add wales\n",
      "aed6a4d Add Scotland\n",
      "79b1285 Add Helvellyn\n",
      "cdd35b8 Include lakes in the scope\n",
      "76322e5 Add lakeland\n",
      "e533bb0 Revert \"Add a lie about a mountain\"\n",
      "972c8ed Change title\n",
      "04ada3b Add a lie about a mountain\n",
      "03915a3 First commit of discourse on UK topography\n"
     ]
    }
   ],
   "source": [
    "%%bash\n",
    "git log --oneline"
   ]
  },
  {
   "cell_type": "code",
   "execution_count": 27,
   "metadata": {
    "collapsed": true
   },
   "outputs": [],
   "source": [
    "os.chdir(working_dir)"
   ]
  },
  {
   "cell_type": "code",
   "execution_count": 28,
   "metadata": {
    "collapsed": false
   },
   "outputs": [
    {
     "name": "stdout",
     "output_type": "stream",
     "text": [
      "Overwriting Wales.md\n"
     ]
    }
   ],
   "source": [
    "%%writefile Wales.md\n",
    "Mountains In Wales\n",
    "==================\n",
    "\n",
    "* Pen y Fan\n",
    "* Tryfan\n",
    "* Snowdon"
   ]
  },
  {
   "cell_type": "code",
   "execution_count": 29,
   "metadata": {
    "collapsed": false
   },
   "outputs": [
    {
     "name": "stdout",
     "output_type": "stream",
     "text": [
      "[master b3d5585] Add a beacon\n",
      " 1 file changed, 2 insertions(+), 1 deletion(-)\n"
     ]
    }
   ],
   "source": [
    "%%bash\n",
    "git commit -am \"Add a beacon\""
   ]
  },
  {
   "cell_type": "code",
   "execution_count": 30,
   "metadata": {
    "collapsed": false
   },
   "outputs": [
    {
     "name": "stdout",
     "output_type": "stream",
     "text": [
      "b3d5585 Add a beacon\n",
      "4bc25e9 Merge branch 'master' of github.com:UCL/github-example\n",
      "d7d7243 Add wales\n",
      "aed6a4d Add Scotland\n",
      "79b1285 Add Helvellyn\n",
      "cdd35b8 Include lakes in the scope\n",
      "76322e5 Add lakeland\n",
      "e533bb0 Revert \"Add a lie about a mountain\"\n",
      "972c8ed Change title\n",
      "04ada3b Add a lie about a mountain\n",
      "03915a3 First commit of discourse on UK topography\n"
     ]
    }
   ],
   "source": [
    "%%bash\n",
    "git log --oneline"
   ]
  },
  {
   "cell_type": "code",
   "execution_count": 31,
   "metadata": {
    "collapsed": false
   },
   "outputs": [
    {
     "name": "stderr",
     "output_type": "stream",
     "text": [
      "To git@github.com:UCL/github-example.git\n",
      "   4bc25e9..b3d5585  master -> master\n"
     ]
    }
   ],
   "source": [
    "%%bash\n",
    "git push"
   ]
  },
  {
   "cell_type": "markdown",
   "metadata": {},
   "source": [
    "Switching back to the other partner..."
   ]
  },
  {
   "cell_type": "code",
   "execution_count": 32,
   "metadata": {
    "collapsed": true
   },
   "outputs": [],
   "source": [
    "os.chdir(partner_dir)"
   ]
  },
  {
   "cell_type": "code",
   "execution_count": 33,
   "metadata": {
    "collapsed": false
   },
   "outputs": [
    {
     "name": "stderr",
     "output_type": "stream",
     "text": [
      "To git@github.com:UCL/github-example.git\n",
      " ! [rejected]        master -> master (fetch first)\n",
      "error: failed to push some refs to 'git@github.com:UCL/github-example.git'\n",
      "hint: Updates were rejected because the remote contains work that you do\n",
      "hint: not have locally. This is usually caused by another repository pushing\n",
      "hint: to the same ref. You may want to first integrate the remote changes\n",
      "hint: (e.g., 'git pull ...') before pushing again.\n",
      "hint: See the 'Note about fast-forwards' in 'git push --help' for details.\n"
     ]
    }
   ],
   "source": [
    "%%bash\n",
    "git push"
   ]
  },
  {
   "cell_type": "code",
   "execution_count": 34,
   "metadata": {
    "collapsed": false
   },
   "outputs": [
    {
     "name": "stdout",
     "output_type": "stream",
     "text": [
      "Merge made by the 'recursive' strategy.\n",
      " Wales.md | 1 +\n",
      " 1 file changed, 1 insertion(+)\n"
     ]
    },
    {
     "name": "stderr",
     "output_type": "stream",
     "text": [
      "From github.com:UCL/github-example\n",
      "   4bc25e9..b3d5585  master     -> origin/master\n"
     ]
    }
   ],
   "source": [
    "%%bash\n",
    "git pull"
   ]
  },
  {
   "cell_type": "code",
   "execution_count": 35,
   "metadata": {
    "collapsed": false
   },
   "outputs": [
    {
     "name": "stderr",
     "output_type": "stream",
     "text": [
      "To git@github.com:UCL/github-example.git\n",
      "   b3d5585..54a5484  master -> master\n"
     ]
    }
   ],
   "source": [
    "%%bash\n",
    "git push"
   ]
  },
  {
   "cell_type": "code",
   "execution_count": 36,
   "metadata": {
    "collapsed": false
   },
   "outputs": [
    {
     "name": "stdout",
     "output_type": "stream",
     "text": [
      "*   54a5484 Merge branch 'master' of github.com:UCL/github-example\n",
      "|\\  \n",
      "| * b3d5585 Add a beacon\n",
      "* | b7eba49 Translating from the Welsh\n",
      "|/  \n",
      "*   4bc25e9 Merge branch 'master' of github.com:UCL/github-example\n",
      "|\\  \n",
      "| * aed6a4d Add Scotland\n",
      "* | d7d7243 Add wales\n",
      "|/  \n",
      "* 79b1285 Add Helvellyn\n",
      "* cdd35b8 Include lakes in the scope\n",
      "* 76322e5 Add lakeland\n",
      "* e533bb0 Revert \"Add a lie about a mountain\"\n",
      "* 972c8ed Change title\n",
      "* 04ada3b Add a lie about a mountain\n",
      "* 03915a3 First commit of discourse on UK topography\n"
     ]
    }
   ],
   "source": [
    "%%bash\n",
    "git log --oneline --graph"
   ]
  },
  {
   "cell_type": "code",
   "execution_count": 37,
   "metadata": {
    "collapsed": true
   },
   "outputs": [],
   "source": [
    "os.chdir(working_dir)"
   ]
  },
  {
   "cell_type": "code",
   "execution_count": 38,
   "metadata": {
    "collapsed": false
   },
   "outputs": [
    {
     "name": "stdout",
     "output_type": "stream",
     "text": [
      "Updating b3d5585..54a5484\n",
      "Fast-forward\n"
     ]
    },
    {
     "name": "stderr",
     "output_type": "stream",
     "text": [
      "From github.com:UCL/github-example\n",
      "   b3d5585..54a5484  master     -> origin/master\n"
     ]
    }
   ],
   "source": [
    "%%bash\n",
    "git pull"
   ]
  },
  {
   "cell_type": "code",
   "execution_count": 39,
   "metadata": {
    "collapsed": false
   },
   "outputs": [
    {
     "name": "stdout",
     "output_type": "stream",
     "text": [
      "*   54a5484 Merge branch 'master' of github.com:UCL/github-example\n",
      "|\\  \n",
      "| * b3d5585 Add a beacon\n",
      "* | b7eba49 Translating from the Welsh\n",
      "|/  \n",
      "*   4bc25e9 Merge branch 'master' of github.com:UCL/github-example\n",
      "|\\  \n",
      "| * aed6a4d Add Scotland\n",
      "* | d7d7243 Add wales\n",
      "|/  \n",
      "* 79b1285 Add Helvellyn\n",
      "* cdd35b8 Include lakes in the scope\n",
      "* 76322e5 Add lakeland\n",
      "* e533bb0 Revert \"Add a lie about a mountain\"\n",
      "* 972c8ed Change title\n",
      "* 04ada3b Add a lie about a mountain\n",
      "* 03915a3 First commit of discourse on UK topography\n"
     ]
    }
   ],
   "source": [
    "%%bash\n",
    "git log --graph --oneline"
   ]
  },
  {
   "cell_type": "code",
   "execution_count": 40,
   "metadata": {
    "collapsed": false
   },
   "outputs": [
    {
     "data": {
      "image/png": "[encoded data removed]",
      "text/plain": [
       "<IPython.core.display.Image object>"
      ]
     },
     "execution_count": 40,
     "metadata": {},
     "output_type": "execute_result"
    }
   ],
   "source": [
    "message=\"\"\"\n",
    "participant Sue as S\n",
    "participant \"Sue's repo\" as SR\n",
    "participant \"Shared remote\" as M\n",
    "participant \"Jim's repo\" as JR\n",
    "participant Jim as J\n",
    "\n",
    "note left of S: git clone\n",
    "M->SR: fetch commits\n",
    "SR->S: working directory as at latest commit\n",
    "\n",
    "note left of S: edit Scotland.md\n",
    "note right of J: edit Wales.md\n",
    "\n",
    "note left of S: git commit -am \"Add scotland\"\n",
    "S->SR: create commit with Scotland file\n",
    "\n",
    "note right of J: git commit -am \"Add wales\"\n",
    "J->JR: create commit with Wales file\n",
    "\n",
    "note left of S: git push\n",
    "SR->M: update remote with changes\n",
    "\n",
    "note right of J: git push\n",
    "JR-->M: !Rejected change\n",
    "\n",
    "note right of J: git pull\n",
    "M->JR: Pull in Sue's last commit, merge histories\n",
    "JR->J: Add Scotland.md to working directory\n",
    "\n",
    "note right of J: git push\n",
    "JR->M: Transfer merged history to remote\n",
    "\n",
    "\"\"\"\n",
    "from wsd import wsd\n",
    "%matplotlib inline\n",
    "wsd(message)"
   ]
  },
  {
   "cell_type": "markdown",
   "metadata": {},
   "source": [
    "### Conflicting commits\n",
    "\n",
    "Finally, go through the process again, but this time, make changes which touch the same line."
   ]
  },
  {
   "cell_type": "code",
   "execution_count": 41,
   "metadata": {
    "collapsed": false
   },
   "outputs": [
    {
     "name": "stdout",
     "output_type": "stream",
     "text": [
      "Overwriting Wales.md\n"
     ]
    }
   ],
   "source": [
    "%%writefile Wales.md\n",
    "Mountains In Wales\n",
    "==================\n",
    "\n",
    "* Pen y Fan\n",
    "* Tryfan\n",
    "* Snowdon\n",
    "* Fan y Big"
   ]
  },
  {
   "cell_type": "code",
   "execution_count": 42,
   "metadata": {
    "collapsed": false
   },
   "outputs": [
    {
     "name": "stdout",
     "output_type": "stream",
     "text": [
      "[master 3c4a02f] Add another Beacon\n",
      " 1 file changed, 2 insertions(+), 1 deletion(-)\n"
     ]
    },
    {
     "name": "stderr",
     "output_type": "stream",
     "text": [
      "To git@github.com:UCL/github-example.git\n",
      "   54a5484..3c4a02f  master -> master\n"
     ]
    }
   ],
   "source": [
    "%%bash\n",
    "git commit -am \"Add another Beacon\"\n",
    "git push"
   ]
  },
  {
   "cell_type": "code",
   "execution_count": 43,
   "metadata": {
    "collapsed": true
   },
   "outputs": [],
   "source": [
    "os.chdir(partner_dir)"
   ]
  },
  {
   "cell_type": "code",
   "execution_count": 44,
   "metadata": {
    "collapsed": false
   },
   "outputs": [
    {
     "name": "stdout",
     "output_type": "stream",
     "text": [
      "Overwriting Wales.md\n"
     ]
    }
   ],
   "source": [
    "%%writefile Wales.md\n",
    "Mountains In Wales\n",
    "==================\n",
    "\n",
    "* Pen y Fan\n",
    "* Tryfan\n",
    "* Snowdon\n",
    "* Glyder Fawr"
   ]
  },
  {
   "cell_type": "code",
   "execution_count": 45,
   "metadata": {
    "collapsed": false
   },
   "outputs": [
    {
     "name": "stdout",
     "output_type": "stream",
     "text": [
      "[master a5f66ac] Add Glyder\n",
      " 1 file changed, 2 insertions(+), 1 deletion(-)\n"
     ]
    },
    {
     "name": "stderr",
     "output_type": "stream",
     "text": [
      "To git@github.com:UCL/github-example.git\n",
      " ! [rejected]        master -> master (fetch first)\n",
      "error: failed to push some refs to 'git@github.com:UCL/github-example.git'\n",
      "hint: Updates were rejected because the remote contains work that you do\n",
      "hint: not have locally. This is usually caused by another repository pushing\n",
      "hint: to the same ref. You may want to first integrate the remote changes\n",
      "hint: (e.g., 'git pull ...') before pushing again.\n",
      "hint: See the 'Note about fast-forwards' in 'git push --help' for details.\n"
     ]
    }
   ],
   "source": [
    "%%bash\n",
    "git commit -am \"Add Glyder\"\n",
    "git push"
   ]
  },
  {
   "cell_type": "markdown",
   "metadata": {},
   "source": [
    "When you pull, instead of offering an automatic merge commit message, it says:"
   ]
  },
  {
   "cell_type": "code",
   "execution_count": 46,
   "metadata": {
    "collapsed": false
   },
   "outputs": [
    {
     "name": "stdout",
     "output_type": "stream",
     "text": [
      "CONFLICT (content): Merge conflict in Wales.md\n",
      "Automatic merge failed; fix conflicts and then commit the result.\n"
     ]
    },
    {
     "name": "stderr",
     "output_type": "stream",
     "text": [
      "From github.com:UCL/github-example\n",
      "   54a5484..3c4a02f  master     -> origin/master\n",
      "Recorded preimage for 'Wales.md'\n"
     ]
    }
   ],
   "source": [
    "%%bash\n",
    "git pull"
   ]
  },
  {
   "cell_type": "markdown",
   "metadata": {},
   "source": [
    "### Resolving conflicts\n",
    "\n",
    "Git couldn't work out how to merge the two different sets of changes.\n",
    "\n",
    "You now need to manually resolve the conflict.\n",
    "\n",
    "It has marked the conflicted area:"
   ]
  },
  {
   "cell_type": "code",
   "execution_count": 47,
   "metadata": {
    "collapsed": false
   },
   "outputs": [
    {
     "name": "stdout",
     "output_type": "stream",
     "text": [
      "Mountains In Wales\n",
      "==================\n",
      "\n",
      "* Pen y Fan\n",
      "* Tryfan\n",
      "* Snowdon\n",
      "<<<<<<< HEAD\n",
      "* Glyder Fawr\n",
      "=======\n",
      "* Fan y Big\n",
      ">>>>>>> 3c4a02fdbaaa1e2a2af2bf62f9e08ac5ded2b374\n"
     ]
    }
   ],
   "source": [
    "%%bash\n",
    "cat Wales.md"
   ]
  },
  {
   "cell_type": "markdown",
   "metadata": {},
   "source": [
    "Manually edit the file, to combine the changes as seems sensible and get rid of the symbols:"
   ]
  },
  {
   "cell_type": "code",
   "execution_count": 48,
   "metadata": {
    "collapsed": false
   },
   "outputs": [
    {
     "name": "stdout",
     "output_type": "stream",
     "text": [
      "Overwriting Wales.md\n"
     ]
    }
   ],
   "source": [
    "%%writefile Wales.md\n",
    "Mountains In Wales\n",
    "==================\n",
    "\n",
    "* Pen y Fan\n",
    "* Tryfan\n",
    "* Snowdon\n",
    "* Glyder Fawr\n",
    "* Fan y Big"
   ]
  },
  {
   "cell_type": "markdown",
   "metadata": {},
   "source": [
    "### Commit the resolved file\n",
    "\n",
    "Now commit the merged result:"
   ]
  },
  {
   "cell_type": "code",
   "execution_count": 49,
   "metadata": {
    "collapsed": false
   },
   "outputs": [
    {
     "name": "stdout",
     "output_type": "stream",
     "text": [
      "[master 5f73fff] Merge branch 'master' of github.com:UCL/github-example\n"
     ]
    },
    {
     "name": "stderr",
     "output_type": "stream",
     "text": [
      "Recorded resolution for 'Wales.md'.\n"
     ]
    }
   ],
   "source": [
    "%%bash\n",
    "git commit -a --no-edit # I added a No-edit for this non-interactive session. You can edit the commit if you like."
   ]
  },
  {
   "cell_type": "code",
   "execution_count": 50,
   "metadata": {
    "collapsed": false
   },
   "outputs": [
    {
     "name": "stderr",
     "output_type": "stream",
     "text": [
      "To git@github.com:UCL/github-example.git\n",
      "   3c4a02f..5f73fff  master -> master\n"
     ]
    }
   ],
   "source": [
    "%%bash\n",
    "git push"
   ]
  },
  {
   "cell_type": "code",
   "execution_count": 51,
   "metadata": {
    "collapsed": true
   },
   "outputs": [],
   "source": [
    "os.chdir(working_dir)"
   ]
  },
  {
   "cell_type": "code",
   "execution_count": 52,
   "metadata": {
    "collapsed": false
   },
   "outputs": [
    {
     "name": "stdout",
     "output_type": "stream",
     "text": [
      "Updating 3c4a02f..5f73fff\n",
      "Fast-forward\n",
      " Wales.md | 1 +\n",
      " 1 file changed, 1 insertion(+)\n"
     ]
    },
    {
     "name": "stderr",
     "output_type": "stream",
     "text": [
      "From github.com:UCL/github-example\n",
      "   3c4a02f..5f73fff  master     -> origin/master\n"
     ]
    }
   ],
   "source": [
    "%%bash\n",
    "git pull"
   ]
  },
  {
   "cell_type": "code",
   "execution_count": 53,
   "metadata": {
    "collapsed": false
   },
   "outputs": [
    {
     "name": "stdout",
     "output_type": "stream",
     "text": [
      "Mountains In Wales\n",
      "==================\n",
      "\n",
      "* Pen y Fan\n",
      "* Tryfan\n",
      "* Snowdon\n",
      "* Glyder Fawr\n",
      "* Fan y Big"
     ]
    }
   ],
   "source": [
    "%%bash\n",
    "cat Wales.md"
   ]
  },
  {
   "cell_type": "code",
   "execution_count": 54,
   "metadata": {
    "collapsed": false
   },
   "outputs": [
    {
     "name": "stdout",
     "output_type": "stream",
     "text": [
      "*   5f73fff Merge branch 'master' of github.com:UCL/github-example\n",
      "|\\  \n",
      "| * 3c4a02f Add another Beacon\n",
      "* | a5f66ac Add Glyder\n",
      "|/  \n",
      "*   54a5484 Merge branch 'master' of github.com:UCL/github-example\n",
      "|\\  \n",
      "| * b3d5585 Add a beacon\n",
      "* | b7eba49 Translating from the Welsh\n",
      "|/  \n",
      "*   4bc25e9 Merge branch 'master' of github.com:UCL/github-example\n",
      "|\\  \n",
      "| * aed6a4d Add Scotland\n",
      "* | d7d7243 Add wales\n",
      "|/  \n",
      "* 79b1285 Add Helvellyn\n",
      "* cdd35b8 Include lakes in the scope\n",
      "* 76322e5 Add lakeland\n",
      "* e533bb0 Revert \"Add a lie about a mountain\"\n",
      "* 972c8ed Change title\n",
      "* 04ada3b Add a lie about a mountain\n",
      "* 03915a3 First commit of discourse on UK topography\n"
     ]
    }
   ],
   "source": [
    "%%bash\n",
    "git log --oneline --graph"
   ]
  },
  {
   "cell_type": "markdown",
   "metadata": {},
   "source": [
    "### Distributed VCS in teams with conflicts"
   ]
  },
  {
   "cell_type": "code",
   "execution_count": 55,
   "metadata": {
    "collapsed": false
   },
   "outputs": [
    {
     "data": {
      "image/png": "[encoded data removed]",
      "text/plain": [
       "<IPython.core.display.Image object>"
      ]
     },
     "execution_count": 55,
     "metadata": {},
     "output_type": "execute_result"
    }
   ],
   "source": [
    "message=\"\"\"\n",
    "participant Sue as S\n",
    "participant \"Sue's repo\" as SR\n",
    "participant \"Shared remote\" as M\n",
    "participant \"Jim's repo\" as JR\n",
    "participant Jim as J\n",
    "\n",
    "note left of S: edit the same line in wales.md\n",
    "note right of J: edit the same line in wales.md\n",
    "    \n",
    "note left of S: git commit -am \"update wales.md\"\n",
    "S->SR: add commit to local repo\n",
    "    \n",
    "note right of J: git commit -am \"update wales.md\"\n",
    "J->JR: add commit to local repo\n",
    "    \n",
    "note left of S: git push\n",
    "SR->M: transfer commit to remote\n",
    "    \n",
    "note right of J: git push\n",
    "JR->M: !Rejected\n",
    "\n",
    "note right of J: git pull\n",
    "JR->J: Make confliced file with conflict markers\n",
    "    \n",
    "note right of J: edit file to resolve conflicts\n",
    "note right of J: git add wales.md\n",
    "note right of J: git commit\n",
    "J->JR: Mark conflict as resolved\n",
    "\n",
    "note right of J: git push\n",
    "JR->M: Transfer merged history to remote\n",
    "\n",
    "note left of S: git pull\n",
    "M->SR: Download Jim's resolution of conflict.\n",
    "    \n",
    "\"\"\"\n",
    "\n",
    "wsd(message)"
   ]
  },
  {
   "cell_type": "markdown",
   "metadata": {},
   "source": [
    "### The Levels of Git"
   ]
  },
  {
   "cell_type": "code",
   "execution_count": 56,
   "metadata": {
    "collapsed": false
   },
   "outputs": [
    {
     "data": {
      "image/png": "[encoded data removed]",
      "text/plain": [
       "<IPython.core.display.Image object>"
      ]
     },
     "execution_count": 56,
     "metadata": {},
     "output_type": "execute_result"
    }
   ],
   "source": [
    "message=\"\"\"\n",
    "Working Directory -> Staging Area : git add\n",
    "Staging Area -> Local Repository : git commit\n",
    "Working Directory -> Local Repository : git commit -a\n",
    "Staging Area -> Working Directory : git checkout\n",
    "Local Repository -> Staging Area : git reset\n",
    "Local Repository -> Working Directory: git reset --hard\n",
    "Local Repository -> Remote Repository : git push\n",
    "Remote Repository -> Local Repository : git fetch\n",
    "Local Repository -> Staging Area : git merge\n",
    "Remote Repository -> Working Directory: git pull\n",
    "\"\"\"\n",
    "\n",
    "wsd(message)"
   ]
  },
  {
   "cell_type": "markdown",
   "metadata": {},
   "source": [
    "## Editing directly on GitHub\n",
    "\n",
    "### Editing directly on GitHub\n",
    "\n",
    "Note that you can also make changes in the GitHub website itself. Visit one of your files, and hit \"edit\".\n",
    "\n",
    "Make a change in the edit window, and add an appropriate commit message.\n",
    "\n",
    "That change now appears on the website, but not in your local copy. (Verify this). "
   ]
  },
  {
   "cell_type": "markdown",
   "metadata": {},
   "source": [
    "Now pull, and check the change is now present on your local version. "
   ]
  },
  {
   "cell_type": "markdown",
   "metadata": {},
   "source": [
    "## Social Coding\n",
    "\n",
    "### GitHub as a social network\n",
    "\n",
    "In addition to being a repository for code, and a way to publish code, GitHub is a social network.  \n",
    "\n",
    "You can follow the public work of other coders: go to the profile of your collaborator in your browser, and hit the \"follow\" button. \n",
    "\n",
    "[Here's mine](https://github.com/jamespjh) : if you want to you can follow me.\n",
    "\n",
    "Using GitHub to build up a good public profile of software projects you've worked on is great for your CV!"
   ]
  }
 ],
 "metadata": {
  "jekyll": {
   "display_name": "Collaboration"
  },
  "kernelspec": {
   "display_name": "Python 2",
   "language": "python",
   "name": "python2"
  },
  "language_info": {
   "codemirror_mode": {
    "name": "ipython",
    "version": 2
   },
   "file_extension": ".py",
   "mimetype": "text/x-python",
   "name": "python",
   "nbconvert_exporter": "python",
   "pygments_lexer": "ipython2",
   "version": "2.7.11"
  }
 },
 "nbformat": 4,
 "nbformat_minor": 0
}
