{
 "cells": [
  {
   "cell_type": "markdown",
   "metadata": {},
   "source": [
    "## Solo work with Git"
   ]
  },
  {
   "cell_type": "markdown",
   "metadata": {},
   "source": [
    "So, we're in our git working directory:"
   ]
  },
  {
   "cell_type": "code",
   "execution_count": 1,
   "metadata": {
    "collapsed": false
   },
   "outputs": [
    {
     "data": {
      "text/plain": [
       "'/Users/jamespjh/devel/rsdt/rsd-engineeringcourse/ch02git/learning_git/git_example'"
      ]
     },
     "execution_count": 1,
     "metadata": {},
     "output_type": "execute_result"
    }
   ],
   "source": [
    "import os\n",
    "top_dir = os.getcwd()\n",
    "git_dir = os.path.join(top_dir, 'learning_git')\n",
    "working_dir=os.path.join(git_dir, 'git_example')\n",
    "os.chdir(working_dir)\n",
    "working_dir"
   ]
  },
  {
   "cell_type": "markdown",
   "metadata": {},
   "source": [
    "### A first example file\n",
    "\n",
    "So let's create an example file, and see how to start to manage a history of changes to it."
   ]
  },
  {
   "cell_type": "markdown",
   "metadata": {},
   "source": [
    "    <my editor> index.md # Type some content into the file."
   ]
  },
  {
   "cell_type": "code",
   "execution_count": 2,
   "metadata": {
    "collapsed": false
   },
   "outputs": [
    {
     "name": "stdout",
     "output_type": "stream",
     "text": [
      "Writing index.md\n"
     ]
    }
   ],
   "source": [
    "%%writefile index.md\n",
    "Mountains in the UK   \n",
    "===================   \n",
    "England is not very mountainous.   \n",
    "But has some tall hills, and maybe a mountain or two depending on your definition.\n"
   ]
  },
  {
   "cell_type": "code",
   "execution_count": 3,
   "metadata": {
    "attributes": {
     "classes": [
      " Bash"
     ],
     "id": ""
    },
    "collapsed": false
   },
   "outputs": [
    {
     "name": "stdout",
     "output_type": "stream",
     "text": [
      "Mountains in the UK   \r\n",
      "===================   \r\n",
      "England is not very mountainous.   \r\n",
      "But has some tall hills, and maybe a mountain or two depending on your definition."
     ]
    }
   ],
   "source": [
    "cat index.md"
   ]
  },
  {
   "cell_type": "markdown",
   "metadata": {},
   "source": [
    "### Telling Git about the File\n",
    "\n",
    "So, let's tell Git that `index.md` is a file which is important, and we would like to keep track of its history:"
   ]
  },
  {
   "cell_type": "code",
   "execution_count": 4,
   "metadata": {
    "attributes": {
     "classes": [
      " Bash"
     ],
     "id": ""
    },
    "collapsed": false
   },
   "outputs": [],
   "source": [
    "%%bash\n",
    "git add index.md"
   ]
  },
  {
   "cell_type": "markdown",
   "metadata": {},
   "source": [
    "Don't forget: Any files in repositories which you want to \"track\" need to be added with `git add` after you create them.\n",
    "\n",
    "### Our first commit\n",
    "\n",
    "Now, we need to tell Git to record the first version of this file in the history of changes:"
   ]
  },
  {
   "cell_type": "code",
   "execution_count": 5,
   "metadata": {
    "attributes": {
     "classes": [
      " Bash"
     ],
     "id": ""
    },
    "collapsed": false
   },
   "outputs": [
    {
     "name": "stdout",
     "output_type": "stream",
     "text": [
      "[master (root-commit) e9f76f5] First commit of discourse on UK topography\n",
      " 1 file changed, 4 insertions(+)\n",
      " create mode 100644 index.md\n"
     ]
    }
   ],
   "source": [
    "%%bash\n",
    "git commit -m \"First commit of discourse on UK topography\""
   ]
  },
  {
   "cell_type": "markdown",
   "metadata": {},
   "source": [
    "And note the confirmation from Git.\n",
    "\n",
    "There's a lot of output there you can ignore for now."
   ]
  },
  {
   "cell_type": "markdown",
   "metadata": {},
   "source": [
    "### Configuring Git with your editor\n",
    "\n",
    "If you don't type in the log message directly with -m \"Some message\", then an editor will pop up, to allow you\n",
    "to edit your message on the fly."
   ]
  },
  {
   "cell_type": "markdown",
   "metadata": {},
   "source": [
    "For this to work, you have to tell git where to find your editor."
   ]
  },
  {
   "cell_type": "code",
   "execution_count": 6,
   "metadata": {
    "attributes": {
     "classes": [
      " Bash"
     ],
     "id": ""
    },
    "collapsed": true
   },
   "outputs": [],
   "source": [
    "%%bash\n",
    "git config --global core.editor vim "
   ]
  },
  {
   "cell_type": "markdown",
   "metadata": {},
   "source": [
    "You can find out what you currently have with:"
   ]
  },
  {
   "cell_type": "code",
   "execution_count": 7,
   "metadata": {
    "attributes": {
     "classes": [
      " Bash"
     ],
     "id": ""
    },
    "collapsed": false
   },
   "outputs": [
    {
     "name": "stdout",
     "output_type": "stream",
     "text": [
      "vim\n"
     ]
    }
   ],
   "source": [
    "%%bash\n",
    "git config --get core.editor"
   ]
  },
  {
   "cell_type": "markdown",
   "metadata": {},
   "source": [
    "To configure Notepad++ on windows you'll need something like the below, ask a demonstrator to help for your machine."
   ]
  },
  {
   "cell_type": "markdown",
   "metadata": {
    "attributes": {
     "classes": [
      " Bash"
     ],
     "id": ""
    }
   },
   "source": [
    "``` bash\n",
    "git config --global core.editor \"'C:/Program Files (x86)/Notepad++\n",
    "   /notepad++.exe' -multiInst  -nosession -noPlugin\"\n",
    "```"
   ]
  },
  {
   "cell_type": "markdown",
   "metadata": {},
   "source": [
    "I'm going to be using `vim` as my editor, but you can use whatever editor you prefer. (Windows users could use \"Notepad++\", Mac users could use \"textmate\" or \"sublime text\", linux users could use `vim`, `nano` or `emacs`.)"
   ]
  },
  {
   "cell_type": "markdown",
   "metadata": {},
   "source": [
    "### Git log\n",
    "\n",
    "Git now has one change in its history:"
   ]
  },
  {
   "cell_type": "code",
   "execution_count": 8,
   "metadata": {
    "attributes": {
     "classes": [
      " Bash"
     ],
     "id": ""
    },
    "collapsed": false
   },
   "outputs": [
    {
     "name": "stdout",
     "output_type": "stream",
     "text": [
      "\u001b[34mThu Sep 8 14:57:05 2016 +0100\u001b[m \u001b[33me9f76f5\u001b[32m (HEAD -> master)\u001b[m \u001b[34mFirst commit of discourse on UK topography \u001b[35m [James Hetherington]\u001b[m"
     ]
    }
   ],
   "source": [
    "%%bash\n",
    "git log"
   ]
  },
  {
   "cell_type": "markdown",
   "metadata": {},
   "source": [
    "You can see the commit message, author, and date..."
   ]
  },
  {
   "cell_type": "markdown",
   "metadata": {},
   "source": [
    "### Hash Codes\n",
    "\n",
    "The commit \"hash code\", e.g.\n",
    "\n",
    "`c438f1716b2515563e03e82231acbae7dd4f4656`\n",
    "\n",
    "is a unique identifier of that particular revision. \n",
    "\n",
    "(This is a really long code, but whenever you need to use it, you can just use the first few characters, however many characters is long enough to make it unique, `c438` for example. )"
   ]
  },
  {
   "cell_type": "markdown",
   "metadata": {},
   "source": [
    "### Nothing to see here\n",
    "\n",
    "Note that git will now tell us that our \"working directory\" is up-to-date with the repository: there are no changes to the files that aren't recorded in the repository history:"
   ]
  },
  {
   "cell_type": "code",
   "execution_count": 9,
   "metadata": {
    "attributes": {
     "classes": [
      " Bash"
     ],
     "id": ""
    },
    "collapsed": false
   },
   "outputs": [
    {
     "name": "stdout",
     "output_type": "stream",
     "text": [
      "On branch master\n",
      "nothing to commit, working directory clean\n"
     ]
    }
   ],
   "source": [
    "%%bash\n",
    "git status"
   ]
  },
  {
   "cell_type": "markdown",
   "metadata": {},
   "source": [
    "Let's edit the file again:\n",
    "\n",
    "    vim index.md"
   ]
  },
  {
   "cell_type": "code",
   "execution_count": 10,
   "metadata": {
    "collapsed": false
   },
   "outputs": [
    {
     "name": "stdout",
     "output_type": "stream",
     "text": [
      "Overwriting index.md\n"
     ]
    }
   ],
   "source": [
    "%%writefile index.md\n",
    "Mountains in the UK   \n",
    "===================   \n",
    "England is not very mountainous.   \n",
    "But has some tall hills, and maybe a mountain or two depending on your definition.\n",
    "\n",
    "Mount Fictional, in Barsetshire, U.K. is the tallest mountain in the world.\n"
   ]
  },
  {
   "cell_type": "code",
   "execution_count": 11,
   "metadata": {
    "attributes": {
     "classes": [
      " Bash"
     ],
     "id": ""
    },
    "collapsed": false
   },
   "outputs": [
    {
     "name": "stdout",
     "output_type": "stream",
     "text": [
      "Mountains in the UK   \r\n",
      "===================   \r\n",
      "England is not very mountainous.   \r\n",
      "But has some tall hills, and maybe a mountain or two depending on your definition.\r\n",
      "\r\n",
      "Mount Fictional, in Barsetshire, U.K. is the tallest mountain in the world."
     ]
    }
   ],
   "source": [
    "cat index.md"
   ]
  },
  {
   "cell_type": "markdown",
   "metadata": {},
   "source": [
    "### Unstaged changes"
   ]
  },
  {
   "cell_type": "code",
   "execution_count": 12,
   "metadata": {
    "attributes": {
     "classes": [
      " Bash"
     ],
     "id": ""
    },
    "collapsed": false
   },
   "outputs": [
    {
     "name": "stdout",
     "output_type": "stream",
     "text": [
      "On branch master\n",
      "Changes not staged for commit:\n",
      "\tmodified:   index.md\n",
      "\n",
      "no changes added to commit\n"
     ]
    }
   ],
   "source": [
    "%%bash\n",
    "git status"
   ]
  },
  {
   "cell_type": "markdown",
   "metadata": {},
   "source": [
    "We can now see that there is a change to \"index.md\" which is currently \"not staged for commit\". What does this mean? \n",
    "\n",
    "If we do a `git commit` now *nothing will happen*. \n",
    "\n",
    "Git will only commit changes to files that you choose to include in each commit.\n",
    "\n",
    "This is a difference from other version control systems, where committing will affect all changed files. "
   ]
  },
  {
   "cell_type": "markdown",
   "metadata": {},
   "source": [
    "We can see the differences in the file with:"
   ]
  },
  {
   "cell_type": "code",
   "execution_count": 13,
   "metadata": {
    "collapsed": false
   },
   "outputs": [
    {
     "name": "stdout",
     "output_type": "stream",
     "text": [
      "diff --git i/index.md w/index.md\n",
      "index 4f737f1..263ec81 100644\n",
      "--- i/index.md\n",
      "+++ w/index.md\n",
      "@@ -1,4 +1,6 @@\n",
      " Mountains in the UK   \n",
      " ===================   \n",
      " England is not very mountainous.   \n",
      "-But has some tall hills, and maybe a mountain or two depending on your definition.\n",
      "\\ No newline at end of file\n",
      "+But has some tall hills, and maybe a mountain or two depending on your definition.\n",
      "+\n",
      "+Mount Fictional, in Barsetshire, U.K. is the tallest mountain in the world.\n",
      "\\ No newline at end of file\n"
     ]
    }
   ],
   "source": [
    "%%bash\n",
    "git diff"
   ]
  },
  {
   "cell_type": "markdown",
   "metadata": {},
   "source": [
    "Deleted lines are prefixed with a minus, added lines prefixed with a plus."
   ]
  },
  {
   "cell_type": "markdown",
   "metadata": {},
   "source": [
    "### Staging a file to be included in the next commit\n",
    "\n",
    "To include the file in the next commit, we have a few choices. This is one of the things to be careful of with git: there are lots of ways to do similar things, and it can be hard to keep track of them all."
   ]
  },
  {
   "cell_type": "code",
   "execution_count": 14,
   "metadata": {
    "attributes": {
     "classes": [
      " Bash"
     ],
     "id": ""
    },
    "collapsed": true
   },
   "outputs": [],
   "source": [
    "%%bash\n",
    "git add --update"
   ]
  },
  {
   "cell_type": "markdown",
   "metadata": {},
   "source": [
    "This says \"include in the next commit, all files which have ever been included before\". \n",
    "\n",
    "Note that `git add` is the command we use to introduce git to a new file, but also the command we use to \"stage\" a file to be included in the next commit. "
   ]
  },
  {
   "cell_type": "markdown",
   "metadata": {},
   "source": [
    "### The staging area\n",
    "\n",
    "The \"staging area\" or \"index\" is the git jargon for the place which contains the list of changes which will be included in the next commit.\n",
    "\n",
    "You can include specific changes to specific files with git add, commit them, add some more files, and commit them. (You can even add specific changes within a file to be included in the index.)"
   ]
  },
  {
   "cell_type": "markdown",
   "metadata": {},
   "source": [
    "### Message Sequence Charts"
   ]
  },
  {
   "cell_type": "markdown",
   "metadata": {},
   "source": [
    "In order to illustrate the behaviour of Git, it will be useful to be able to generate figures in Python\n",
    "of a \"message sequence chart\" flavour."
   ]
  },
  {
   "cell_type": "markdown",
   "metadata": {},
   "source": [
    "There's a nice online tool to do this, called \"Message Sequence Charts\"."
   ]
  },
  {
   "cell_type": "markdown",
   "metadata": {},
   "source": [
    "Have a look at https://www.websequencediagrams.com"
   ]
  },
  {
   "cell_type": "markdown",
   "metadata": {},
   "source": [
    "Instead of just showing you these diagrams, I'm showing you in this notebook how I make them.\n",
    "This is part of our \"reproducible computing\" approach; always generating all our figures from code."
   ]
  },
  {
   "cell_type": "markdown",
   "metadata": {},
   "source": [
    "Here's some quick code in the Notebook to download and display an MSC illustration, using the Web Sequence Diagrams API:"
   ]
  },
  {
   "cell_type": "code",
   "execution_count": 15,
   "metadata": {
    "collapsed": false
   },
   "outputs": [
    {
     "name": "stdout",
     "output_type": "stream",
     "text": [
      "Writing wsd.py\n"
     ]
    }
   ],
   "source": [
    "%%writefile wsd.py\n",
    "import requests\n",
    "import re\n",
    "import IPython\n",
    "\n",
    "def wsd(code):\n",
    "    response = requests.post(\"http://www.websequencediagrams.com/index.php\", data={\n",
    "            'message': code,\n",
    "            'apiVersion': 1,\n",
    "        })\n",
    "    expr = re.compile(\"(\\?(img|pdf|png|svg)=[a-zA-Z0-9]+)\")\n",
    "    m = expr.search(response.text)\n",
    "    if m == None:\n",
    "        print \"Invalid response from server.\"\n",
    "        return False\n",
    "                            \n",
    "    image=requests.get(\"http://www.websequencediagrams.com/\" + m.group(0))\n",
    "    return IPython.core.display.Image(image.content)"
   ]
  },
  {
   "cell_type": "code",
   "execution_count": 16,
   "metadata": {
    "collapsed": false
   },
   "outputs": [
    {
     "data": {
      "image/png": "[encoded data removed]",
      "text/plain": [
       "<IPython.core.display.Image object>"
      ]
     },
     "execution_count": 16,
     "metadata": {},
     "output_type": "execute_result"
    }
   ],
   "source": [
    "from wsd import wsd\n",
    "%matplotlib inline\n",
    "wsd(\"Sender->Recipient: Hello\\n Recipient->Sender: Message received OK\")"
   ]
  },
  {
   "cell_type": "markdown",
   "metadata": {},
   "source": [
    "### The Levels of Git"
   ]
  },
  {
   "cell_type": "markdown",
   "metadata": {},
   "source": [
    "Let's make ourselves a sequence chart to show the different aspects of Git we've seen so far:"
   ]
  },
  {
   "cell_type": "code",
   "execution_count": 17,
   "metadata": {
    "collapsed": false
   },
   "outputs": [
    {
     "data": {
      "image/png": "[encoded data removed]",
      "text/plain": [
       "<IPython.core.display.Image object>"
      ]
     },
     "execution_count": 17,
     "metadata": {},
     "output_type": "execute_result"
    }
   ],
   "source": [
    "message=\"\"\"\n",
    "Working Directory -> Staging Area : git add\n",
    "Staging Area -> Local Repository : git commit\n",
    "Working Directory -> Local Repository : git commit -a\n",
    "\"\"\"\n",
    "wsd(message)"
   ]
  },
  {
   "cell_type": "markdown",
   "metadata": {},
   "source": [
    "### Review of status"
   ]
  },
  {
   "cell_type": "code",
   "execution_count": 18,
   "metadata": {
    "attributes": {
     "classes": [
      " Bash"
     ],
     "id": ""
    },
    "collapsed": false
   },
   "outputs": [
    {
     "name": "stdout",
     "output_type": "stream",
     "text": [
      "On branch master\n",
      "Changes to be committed:\n",
      "\tmodified:   index.md\n",
      "\n",
      "Untracked files:\n",
      "\twsd.py\n",
      "\twsd.pyc\n",
      "\n"
     ]
    }
   ],
   "source": [
    "%%bash\n",
    "git status"
   ]
  },
  {
   "cell_type": "code",
   "execution_count": 19,
   "metadata": {
    "collapsed": false
   },
   "outputs": [
    {
     "name": "stdout",
     "output_type": "stream",
     "text": [
      "[master 61f238a] Add a lie about a mountain\n",
      " 1 file changed, 3 insertions(+), 1 deletion(-)\n"
     ]
    }
   ],
   "source": [
    "%%bash\n",
    "git commit -m \"Add a lie about a mountain\""
   ]
  },
  {
   "cell_type": "code",
   "execution_count": 20,
   "metadata": {
    "attributes": {
     "classes": [
      " Bash"
     ],
     "id": ""
    },
    "collapsed": false
   },
   "outputs": [
    {
     "name": "stdout",
     "output_type": "stream",
     "text": [
      "\u001b[34mThu Sep 8 14:57:10 2016 +0100\u001b[m \u001b[33m61f238a\u001b[32m (HEAD -> master)\u001b[m \u001b[34mAdd a lie about a mountain \u001b[35m [James Hetherington]\u001b[m\n",
      "\u001b[34mThu Sep 8 14:57:05 2016 +0100\u001b[m \u001b[33me9f76f5\u001b[32m\u001b[m \u001b[34mFirst commit of discourse on UK topography \u001b[35m [James Hetherington]\u001b[m"
     ]
    }
   ],
   "source": [
    "%%bash\n",
    "git log"
   ]
  },
  {
   "cell_type": "markdown",
   "metadata": {},
   "source": [
    "Great, we now have a file which contains a mistake."
   ]
  },
  {
   "cell_type": "markdown",
   "metadata": {},
   "source": [
    "### Carry on regardless\n",
    "\n",
    "In a while, we'll use Git to roll back to the last correct version: this is one of the main reasons we wanted to use version control, after all! But for now, let's do just as we would if we were writing code, not notice our mistake and keep working..."
   ]
  },
  {
   "cell_type": "markdown",
   "metadata": {},
   "source": [
    "```bash\n",
    "vim index.md\n",
    "```"
   ]
  },
  {
   "cell_type": "code",
   "execution_count": 21,
   "metadata": {
    "collapsed": false
   },
   "outputs": [
    {
     "name": "stdout",
     "output_type": "stream",
     "text": [
      "Overwriting index.md\n"
     ]
    }
   ],
   "source": [
    "%%writefile index.md\n",
    "Mountains and Hills in the UK   \n",
    "===================   \n",
    "England is not very mountainous.   \n",
    "But has some tall hills, and maybe a mountain or two depending on your definition.\n",
    "\n",
    "Mount Fictional, in Barsetshire, U.K. is the tallest mountain in the world.\n"
   ]
  },
  {
   "cell_type": "code",
   "execution_count": 22,
   "metadata": {
    "attributes": {
     "classes": [
      " Bash"
     ],
     "id": ""
    },
    "collapsed": false
   },
   "outputs": [
    {
     "name": "stdout",
     "output_type": "stream",
     "text": [
      "Mountains and Hills in the UK   \r\n",
      "===================   \r\n",
      "England is not very mountainous.   \r\n",
      "But has some tall hills, and maybe a mountain or two depending on your definition.\r\n",
      "\r\n",
      "Mount Fictional, in Barsetshire, U.K. is the tallest mountain in the world."
     ]
    }
   ],
   "source": [
    "cat index.md"
   ]
  },
  {
   "cell_type": "markdown",
   "metadata": {},
   "source": [
    "### Commit with a built-in-add"
   ]
  },
  {
   "cell_type": "code",
   "execution_count": 23,
   "metadata": {
    "collapsed": false
   },
   "outputs": [
    {
     "name": "stdout",
     "output_type": "stream",
     "text": [
      "[master 03a0fc0] Change title\n",
      " 1 file changed, 1 insertion(+), 1 deletion(-)\n"
     ]
    }
   ],
   "source": [
    "%%bash\n",
    "git commit -am \"Change title\""
   ]
  },
  {
   "cell_type": "markdown",
   "metadata": {},
   "source": [
    "This last command, `git commit -a` automatically adds changes to all tracked files to the staging area, as part of the commit command. So, if you never want to just add changes to some tracked files but not others, you can just use this and forget about the staging area!"
   ]
  },
  {
   "cell_type": "markdown",
   "metadata": {
    "collapsed": true
   },
   "source": [
    "### Review of changes"
   ]
  },
  {
   "cell_type": "code",
   "execution_count": 24,
   "metadata": {
    "attributes": {
     "classes": [
      " Bash"
     ],
     "id": ""
    },
    "collapsed": false
   },
   "outputs": [
    {
     "name": "stdout",
     "output_type": "stream",
     "text": [
      "\u001b[34mThu Sep 8 14:57:10 2016 +0100\u001b[m \u001b[33m03a0fc0\u001b[32m (HEAD -> master)\u001b[m \u001b[34mChange title \u001b[35m [James Hetherington]\u001b[m\n",
      "\u001b[34mThu Sep 8 14:57:10 2016 +0100\u001b[m \u001b[33m61f238a\u001b[32m\u001b[m \u001b[34mAdd a lie about a mountain \u001b[35m [James Hetherington]\u001b[m\n",
      "\u001b[34mThu Sep 8 14:57:05 2016 +0100\u001b[m \u001b[33me9f76f5\u001b[32m\u001b[m \u001b[34mFirst commit of discourse on UK topography \u001b[35m [James Hetherington]\u001b[m"
     ]
    }
   ],
   "source": [
    "%%bash\n",
    "git log | head"
   ]
  },
  {
   "cell_type": "markdown",
   "metadata": {},
   "source": [
    "We now have three changes in the history:"
   ]
  },
  {
   "cell_type": "code",
   "execution_count": 25,
   "metadata": {
    "attributes": {
     "classes": [
      " Bash"
     ],
     "id": ""
    },
    "collapsed": false
   },
   "outputs": [
    {
     "name": "stdout",
     "output_type": "stream",
     "text": [
      "03a0fc0 Change title\n",
      "61f238a Add a lie about a mountain\n",
      "e9f76f5 First commit of discourse on UK topography\n"
     ]
    }
   ],
   "source": [
    "%%bash\n",
    "git log --oneline"
   ]
  },
  {
   "cell_type": "markdown",
   "metadata": {},
   "source": [
    "### Git Solo Workflow"
   ]
  },
  {
   "cell_type": "markdown",
   "metadata": {},
   "source": [
    "We can make a diagram that summarises the above story:"
   ]
  },
  {
   "cell_type": "code",
   "execution_count": 26,
   "metadata": {
    "collapsed": false
   },
   "outputs": [
    {
     "data": {
      "image/png": "[encoded data removed]",
      "text/plain": [
       "<IPython.core.display.Image object>"
      ]
     },
     "execution_count": 26,
     "metadata": {},
     "output_type": "execute_result"
    }
   ],
   "source": [
    "message=\"\"\"\n",
    "participant \"Jim's repo\" as R\n",
    "participant \"Jim's index\" as I\n",
    "participant Jim as J\n",
    "\n",
    "note right of J: vim index.md\n",
    "\n",
    "note right of J: git init\n",
    "J->I: create\n",
    "J->R: create\n",
    "\n",
    "note right of J: git add index.md\n",
    "\n",
    "J->I: Add content of index.md\n",
    "\n",
    "note right of J: git commit\n",
    "J->R: Commit content of index.md\n",
    "\n",
    "note right of J:  vim index.md\n",
    "\n",
    "note right of J: git add --update\n",
    "J->I: Add content of index.md\n",
    "note right of J: git commit -m \"Add a lie\"\n",
    "I->R: Commit change to index.md\n",
    "\n",
    "note right of J:  vim index.md\n",
    "note right of J: git commit -am \"Change title\"\n",
    "J->I: Add content of index.md\n",
    "J->R: Commit change to index.md\n",
    "\n",
    "\"\"\"\n",
    "wsd(message)"
   ]
  }
 ],
 "metadata": {
  "jekyll": {
   "display_name": "Solo Git"
  },
  "kernelspec": {
   "display_name": "Python 2",
   "language": "python",
   "name": "python2"
  },
  "language_info": {
   "codemirror_mode": {
    "name": "ipython",
    "version": 2
   },
   "file_extension": ".py",
   "mimetype": "text/x-python",
   "name": "python",
   "nbconvert_exporter": "python",
   "pygments_lexer": "ipython2",
   "version": "2.7.11"
  }
 },
 "nbformat": 4,
 "nbformat_minor": 0
}
