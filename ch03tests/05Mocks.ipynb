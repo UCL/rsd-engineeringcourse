{
 "cells": [
  {
   "cell_type": "markdown",
   "metadata": {},
   "source": [
    "# Mocking in Python"
   ]
  },
  {
   "cell_type": "markdown",
   "metadata": {},
   "source": [
    "## What is Mocking? \n",
    "\n",
    "Definition   \n",
    "**Mock**: _verb_,\n",
    "1. to tease or laugh at in a scornful or contemptuous manner\n",
    "2. to make a replica or imitation of something\n",
    "\n",
    "**Mocking in Python**   \n",
    "A mock object in Python substitutes and imitates a real object within a testing environment. \n",
    "\n",
    "\n",
    "## Aims\n",
    "* To learn fundamentals of unittest.mock\n",
    "* To show examples of use cases\n",
    "* To test other functions\n",
    "\n",
    "## Further reading\n",
    "See last cell for further reading and real-word examples at UCL\n"
   ]
  },
  {
   "cell_type": "markdown",
   "metadata": {},
   "source": [
    "## The Mock Object\n",
    "`unittest.mock` offers a base class for mocking objects called Mock. The following is an example how to define and object, call it and return id.\n"
   ]
  },
  {
   "cell_type": "code",
   "execution_count": null,
   "metadata": {},
   "outputs": [],
   "source": [
    "from unittest.mock import Mock\n",
    "from unittest.mock import patch\n",
    "\n",
    "mock = Mock()\n",
    "mock"
   ]
  },
  {
   "cell_type": "markdown",
   "metadata": {},
   "source": [
    "## Recording calls with mock\n",
    "Mock objects record the calls made to them. See example below with various input arguments and its call `function.mock_calls`."
   ]
  },
  {
   "cell_type": "code",
   "execution_count": null,
   "metadata": {},
   "outputs": [],
   "source": [
    "from unittest.mock import Mock\n",
    "function = Mock(name=\"myroutine\", return_value=2)"
   ]
  },
  {
   "cell_type": "code",
   "execution_count": null,
   "metadata": {},
   "outputs": [],
   "source": [
    "function('word string')"
   ]
  },
  {
   "cell_type": "code",
   "execution_count": null,
   "metadata": {},
   "outputs": [],
   "source": [
    "function(1000)"
   ]
  },
  {
   "cell_type": "code",
   "execution_count": null,
   "metadata": {},
   "outputs": [],
   "source": [
    "function(number_value=500)"
   ]
  },
  {
   "cell_type": "code",
   "execution_count": null,
   "metadata": {},
   "outputs": [],
   "source": [
    "function(flag_variable=False)"
   ]
  },
  {
   "cell_type": "code",
   "execution_count": null,
   "metadata": {},
   "outputs": [],
   "source": [
    "function(5, \"hello\", a=True)"
   ]
  },
  {
   "cell_type": "code",
   "execution_count": null,
   "metadata": {
    "attributes": {
     "classes": [
      " python"
     ],
     "id": ""
    }
   },
   "outputs": [],
   "source": [
    "function.mock_calls"
   ]
  },
  {
   "cell_type": "markdown",
   "metadata": {},
   "source": [
    "The arguments of each call can be recovered"
   ]
  },
  {
   "cell_type": "code",
   "execution_count": null,
   "metadata": {
    "attributes": {
     "classes": [
      " python"
     ],
     "id": ""
    }
   },
   "outputs": [],
   "source": [
    "call_number = 4\n",
    "_, args, kwargs = function.mock_calls[call_number]\n",
    "print(f' {args}, {kwargs}')"
   ]
  },
  {
   "cell_type": "markdown",
   "metadata": {},
   "source": [
    "## Mock objects can return different values for each call"
   ]
  },
  {
   "cell_type": "code",
   "execution_count": null,
   "metadata": {},
   "outputs": [],
   "source": [
    "function = Mock(name=\"myroutine\", side_effect=[2, \"xyz\"])"
   ]
  },
  {
   "cell_type": "code",
   "execution_count": null,
   "metadata": {},
   "outputs": [],
   "source": [
    "function('word string')"
   ]
  },
  {
   "cell_type": "code",
   "execution_count": null,
   "metadata": {},
   "outputs": [],
   "source": [
    "function(1000, \"hello\", {'a': True})"
   ]
  },
  {
   "cell_type": "markdown",
   "metadata": {},
   "source": [
    "We expect an error if there are no return values left in the list"
   ]
  },
  {
   "cell_type": "code",
   "execution_count": null,
   "metadata": {},
   "outputs": [],
   "source": [
    "function()"
   ]
  },
  {
   "cell_type": "markdown",
   "metadata": {},
   "source": [
    "## Examples "
   ]
  },
  {
   "cell_type": "markdown",
   "metadata": {},
   "source": [
    "### Using mocks to model test resources\n",
    "Often we want to write tests for code which interacts with remote resources. (E.g. databases, the internet, or data files.)\n",
    "We don't want to have our tests *actually* interact with the remote resource, as this would mean our tests failed\n",
    "due to lost internet connections, for example.\n",
    "Instead, we can use mocks to assert that our code does the right thing in terms of the *messages it sends*: the parameters of the\n",
    "function calls it makes to the remote resource.\n",
    "For example, consider the following code that downloads a map from the internet:\n"
   ]
  },
  {
   "cell_type": "code",
   "execution_count": null,
   "metadata": {},
   "outputs": [],
   "source": [
    "import requests\n",
    "\n",
    "def map_at(lat, long, satellite=False, zoom=12, \n",
    "           size=(400, 400)):\n",
    "\n",
    "    base = \"https://static-maps.yandex.ru/1.x/?\"\n",
    "    \n",
    "    params = dict(\n",
    "        z = zoom,\n",
    "        size = \",\".join(map(str,size)),\n",
    "        ll = \",\".join(map(str,(long,lat))),\n",
    "        lang = \"en_US\")\n",
    "    \n",
    "    if satellite:\n",
    "        params[\"l\"] = \"sat\"\n",
    "    else:\n",
    "        params[\"l\"] = \"map\"\n",
    "        \n",
    "    return requests.get(base, params=params)"
   ]
  },
  {
   "cell_type": "code",
   "execution_count": null,
   "metadata": {},
   "outputs": [],
   "source": [
    "london_map = map_at(51.5073509, -0.1277583)\n",
    "from IPython.display import Image\n",
    "\n",
    "%matplotlib inline\n",
    "Image(london_map.content)"
   ]
  },
  {
   "cell_type": "markdown",
   "metadata": {},
   "source": [
    "We would like to test that it is building the parameters correctly. We can do this by **mocking** the requests object. We need to temporarily replace a method in the library with a mock. We can use \"patch\" to do this:"
   ]
  },
  {
   "cell_type": "code",
   "execution_count": null,
   "metadata": {},
   "outputs": [],
   "source": [
    "with patch.object(requests,'get') as mock_get:\n",
    "    london_map = map_at(51.5073509, -0.1277583)\n",
    "    \n",
    "print(mock_get.mock_calls)"
   ]
  },
  {
   "cell_type": "markdown",
   "metadata": {},
   "source": [
    "Our tests then look like:"
   ]
  },
  {
   "cell_type": "code",
   "execution_count": null,
   "metadata": {},
   "outputs": [],
   "source": [
    "def test_build_default_params(_base, _params):\n",
    "    with patch.object(requests,'get') as mock_get:\n",
    "        default_map = map_at(51.0, 0.0)\n",
    "        mock_get.assert_called_with(_base, params=_params)\n",
    "\n",
    "base=\"https://static-maps.yandex.ru/1.x/?\"\n",
    "good_params={\n",
    "    'z':12,\n",
    "    'size':'400,400',\n",
    "    'll':'0.0,51.0',\n",
    "    'lang':'en_US',\n",
    "    'l': 'map'\n",
    "}        \n",
    "test_build_default_params(base, good_params)"
   ]
  },
  {
   "cell_type": "markdown",
   "metadata": {},
   "source": [
    "That was quiet, so it passed. \n",
    "When writing tests, we usually modifies one of the expectations, to something 'wrong', just to check it's not\n",
    "passing \"by accident\", run the tests, then change it back:"
   ]
  },
  {
   "cell_type": "code",
   "execution_count": null,
   "metadata": {},
   "outputs": [],
   "source": [
    "base=\"https://static-maps.yandex.ru/1.x/?\"\n",
    "bad_params={\n",
    "    'z':15,\n",
    "    'size':'400,400',    \n",
    "    'll':'0.0,51.0',\n",
    "    'lang':'en_US',\n",
    "    'l': 'map'\n",
    "}        \n",
    "test_build_default_params(base, bad_params)\n"
   ]
  },
  {
   "cell_type": "markdown",
   "metadata": {},
   "source": [
    "### Testing functions that call other functions\n",
    "We want to test that `partial_derivative function` does the right thing. \n",
    "It is supposed to compute the derivative of a function of a vector in a particular direction.    "
   ]
  },
  {
   "cell_type": "code",
   "execution_count": null,
   "metadata": {
    "attributes": {
     "classes": [
      " python"
     ],
     "id": ""
    }
   },
   "outputs": [],
   "source": [
    "def partial_derivative(function, at, direction, delta=1.0):\n",
    "    f_x = function(at)\n",
    "    x_plus_delta = at[:]\n",
    "    x_plus_delta[direction] += delta\n",
    "    f_x_plus_delta = function(x_plus_delta)\n",
    "    return (f_x_plus_delta - f_x) / delta"
   ]
  },
  {
   "cell_type": "code",
   "execution_count": null,
   "metadata": {},
   "outputs": [],
   "source": [
    "partial_derivative(sum, [0,0,0], 1)"
   ]
  },
  {
   "cell_type": "markdown",
   "metadata": {},
   "source": [
    "How do we assert that it is doing the right thing? With tests like this:"
   ]
  },
  {
   "cell_type": "code",
   "execution_count": null,
   "metadata": {},
   "outputs": [],
   "source": [
    "from unittest.mock import MagicMock\n",
    "\n",
    "def test_derivative_2d_y_direction():\n",
    "    func = MagicMock()\n",
    "    partial_derivative(func, [0,0], 1)\n",
    "    func.assert_any_call([0, 1.0])\n",
    "    func.assert_any_call([0, 0])\n",
    "    \n",
    "\n",
    "test_derivative_2d_y_direction()"
   ]
  },
  {
   "cell_type": "markdown",
   "metadata": {},
   "source": [
    "We made our mock a `MagicMock` object because otherwise, the mock results `f_x_plus_delta` and `f_x` can't be subtracted:"
   ]
  },
  {
   "cell_type": "code",
   "execution_count": null,
   "metadata": {},
   "outputs": [],
   "source": [
    "MagicMock() - MagicMock()"
   ]
  },
  {
   "cell_type": "code",
   "execution_count": null,
   "metadata": {},
   "outputs": [],
   "source": [
    "Mock() - Mock()"
   ]
  },
  {
   "cell_type": "markdown",
   "metadata": {},
   "source": [
    "# Further reading\n",
    "\n",
    "## Real-world examples at UCL \n",
    "* Mock tests for NDI Optical trackers: https://github.com/SciKit-Surgery/scikit-surgerynditracker/tree/master/tests \n",
    "* Mock tests for BK ultrasound machines: https://github.com/SciKit-Surgery/scikit-surgerybk/tree/master/tests\n",
    "* Mock tests for Image Viewer Datasets: https://github.com/lowe-lab-ucl/napari-btrack/blob/main/napari_btrack/_tests/test_dock_widget.py\n",
    "\n",
    "\n",
    "## Frameworks\n",
    "* C: [CMocka](http://www.cmocka.org/)\n",
    "* C++: [googletest](https://github.com/google/googletest)\n",
    "* Python: [unittest.mock](http://docs.python.org/3/library/unittest.mock)\n",
    "\n",
    "## Other tutorials\n",
    "* Understanding the Python Mock Object Library: https://realpython.com/python-mock-library/\n",
    "* Intro to mocking in python: https://www.toptal.com/python/an-introduction-to-mocking-in-python\n"
   ]
  },
  {
   "cell_type": "code",
   "execution_count": null,
   "metadata": {},
   "outputs": [],
   "source": []
  }
 ],
 "metadata": {
  "jekyll": {
   "display_name": "Mocks"
  },
  "kernelspec": {
   "display_name": "Python 3 (ipykernel)",
   "language": "python",
   "name": "python3"
  },
  "language_info": {
   "codemirror_mode": {
    "name": "ipython",
    "version": 3
   },
   "file_extension": ".py",
   "mimetype": "text/x-python",
   "name": "python",
   "nbconvert_exporter": "python",
   "pygments_lexer": "ipython3",
   "version": "3.10.6"
  }
 },
 "nbformat": 4,
 "nbformat_minor": 1
}
