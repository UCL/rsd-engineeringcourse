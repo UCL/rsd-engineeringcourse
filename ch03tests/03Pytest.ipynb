{
 "cells": [
  {
   "cell_type": "markdown",
   "metadata": {},
   "source": [
    "## Testing frameworks\n",
    "\n",
    "### Why use testing frameworks?"
   ]
  },
  {
   "cell_type": "markdown",
   "metadata": {},
   "source": [
    "Frameworks should simplify our lives:\n",
    "\n",
    "* Should be easy to add simple test\n",
    "* Should be possible to create complex test:\n",
    "    * Fixtures\n",
    "    * Setup/Tear down\n",
    "    * Parameterized tests (same test, mostly same input)\n",
    "* Find all our tests in a complicated code-base \n",
    "* Run all our tests with a quick command\n",
    "* Run only some tests, e.g. ``test --only \"tests about fields\"``\n",
    "* **Report failing tests**\n",
    "* Additional goodies, such as code coverage"
   ]
  },
  {
   "cell_type": "markdown",
   "metadata": {},
   "source": [
    "### Common testing frameworks"
   ]
  },
  {
   "cell_type": "markdown",
   "metadata": {},
   "source": [
    "* Language agnostic: [CTest](http://www.cmake.org/cmake/help/v2.8.12/ctest.html)\n",
    "  * Test runner for executables, bash scripts, etc...\n",
    "  * Great for legacy code hardening\n",
    "    \n",
    "* C unit-tests:\n",
    "    * all c++ frameworks,\n",
    "    * [Check](http://check.sourceforge.net/),\n",
    "    * [CUnit](http://cunit.sourceforge.net)\n",
    "\n",
    "* C++ unit-tests:\n",
    "    * [CppTest](http://cpptest.sourceforge.net/),\n",
    "    * [Boost::Test](http://www.boost.org/doc/libs/1_55_0/libs/test/doc/html/index.html),\n",
    "    * [google-test](https://code.google.com/p/googletest/),\n",
    "    * [Catch](https://github.com/philsquared/Catch) (best)\n",
    "\n",
    "* Python unit-tests:\n",
    "    * [nose](https://nose.readthedocs.org/en/latest/) includes test discovery, coverage, etc\n",
    "    * [unittest](http://docs.python.org/2/library/unittest.html) comes with standard python library\n",
    "    * [py.test](http://pytest.org/latest/), branched off of nose\n",
    "\n",
    "* R unit-tests:\n",
    "    * [RUnit](http://cran.r-project.org/web/packages/RUnit/index.html),\n",
    "    * [svUnit](http://cran.r-project.org/web/packages/svUnit/index.html)\n",
    "    * (works with [SciViews](http://www.sciviews.org/) GUI)\n",
    "\n",
    "* Fortran unit-tests:\n",
    "    * [funit](http://nasarb.rubyforge.org/funit/),\n",
    "    * [pfunit](http://sourceforge.net/projects/pfunit/)(works with MPI)"
   ]
  },
  {
   "cell_type": "markdown",
   "metadata": {},
   "source": [
    "### Nose framework: usage\n",
    "\n",
    "[pytest](http://doc.pytest.org/en/latest/) is a better python testing framework.\n",
    "[nose](https://nose.readthedocs.org/en/latest/) is an older python testing framework you may see in use, including in this course."
   ]
  },
  {
   "cell_type": "markdown",
   "metadata": {},
   "source": [
    "We can use its tools in the notebook for on-the-fly tests in the notebook. This, happily, includes the negative-tests example we were looking for a moment ago."
   ]
  },
  {
   "cell_type": "code",
   "execution_count": 44,
   "metadata": {
    "collapsed": true
   },
   "outputs": [],
   "source": [
    "def I_only_accept_positive_numbers(number):\n",
    "    # Check input\n",
    "    if number < 0: \n",
    "        raise ValueError(\"Input \"+ str(number)+\" is negative\")\n",
    "\n",
    "    # Do something"
   ]
  },
  {
   "cell_type": "code",
   "execution_count": 45,
   "metadata": {
    "collapsed": true
   },
   "outputs": [],
   "source": [
    "from pytest import raises"
   ]
  },
  {
   "cell_type": "code",
   "execution_count": 48,
   "metadata": {
    "collapsed": false
   },
   "outputs": [],
   "source": [
    "with raises(ValueError):\n",
    "    I_only_accept_positive_numbers(-5)"
   ]
  },
  {
   "cell_type": "markdown",
   "metadata": {},
   "source": [
    "but the real power comes when we write a test file alongside our code files in our homemade packages:"
   ]
  },
  {
   "cell_type": "code",
   "execution_count": 49,
   "metadata": {
    "collapsed": true
   },
   "outputs": [],
   "source": [
    "%mkdir saskatchewan"
   ]
  },
  {
   "cell_type": "code",
   "execution_count": 1,
   "metadata": {
    "collapsed": false
   },
   "outputs": [
    {
     "name": "stdout",
     "output_type": "stream",
     "text": [
      "Overwriting saskatchewan/__init__.py\n"
     ]
    }
   ],
   "source": [
    "%%writefile saskatchewan/__init__.py\n",
    "\"\"\" Overlapping fields \"\"\""
   ]
  },
  {
   "cell_type": "code",
   "execution_count": 2,
   "metadata": {
    "collapsed": false
   },
   "outputs": [
    {
     "name": "stdout",
     "output_type": "stream",
     "text": [
      "Overwriting saskatchewan/overlap.py\n"
     ]
    }
   ],
   "source": [
    "%%writefile saskatchewan/overlap.py\n",
    "def overlap(field1, field2):\n",
    "    left1, bottom1, top1, right1 = field1\n",
    "    left2, bottom2, top2, right2 = field2\n",
    "    \n",
    "    overlap_left=max(left1, left2)\n",
    "    overlap_bottom=max(bottom1, bottom2)\n",
    "    overlap_right=min(right1, right2)\n",
    "    overlap_top=min(top1, top2)\n",
    "    # Here's our wrong code again\n",
    "    overlap_height=(overlap_top-overlap_bottom)\n",
    "    overlap_width=(overlap_right-overlap_left)\n",
    "    \n",
    "    return overlap_height*overlap_width"
   ]
  },
  {
   "cell_type": "code",
   "execution_count": 3,
   "metadata": {
    "collapsed": false
   },
   "outputs": [
    {
     "name": "stdout",
     "output_type": "stream",
     "text": [
      "Overwriting saskatchewan/test_overlap.py\n"
     ]
    }
   ],
   "source": [
    "%%writefile saskatchewan/test_overlap.py\n",
    "from .overlap import overlap\n",
    "\n",
    "def test_full_overlap():\n",
    "    assert overlap((1.,1.,4.,4.),(2.,2.,3.,3.)) == 1.0\n",
    "\n",
    "def test_partial_overlap():\n",
    "    assert overlap((1,1,4,4),(2,2,3,4.5)) == 2.0\n",
    "                 \n",
    "def test_no_overlap():\n",
    "    assert overlap((1,1,4,4),(4.5,4.5,5,5)) == 0.0"
   ]
  },
  {
   "cell_type": "markdown",
   "metadata": {
    "attributes": {
     "classes": [
      " bash"
     ],
     "id": ""
    },
    "collapsed": false
   },
   "source": [
    "Mac and Linux users can run from the commandline with\n",
    "\n",
    "```Bash\n",
    "pytest saskatchewan\n",
    "```\n",
    "\n",
    "Or\n",
    "\n",
    "```Bash\n",
    "python -m pytest saskatchewan\n",
    "```\n",
    "\n",
    "Windows (and Mac and Linux) users can do the following"
   ]
  },
  {
   "cell_type": "code",
   "execution_count": 5,
   "metadata": {
    "collapsed": false
   },
   "outputs": [
    {
     "name": "stdout",
     "output_type": "stream",
     "text": [
      "========================================================================================================= test session starts =========================================================================================================\n",
      "platform darwin -- Python 3.5.2, pytest-3.0.4, py-1.4.31, pluggy-0.4.0\n",
      "rootdir: /Users/mdavezac/workspaces/rsd_engineering/src/rsd_engineering/ch03tests, inifile: \n",
      "plugins: cov-2.4.0\n",
      "collected 3 items\n",
      "\n",
      "saskatchewan/test_overlap.py ..F\n",
      "\n",
      "============================================================================================================== FAILURES ===============================================================================================================\n",
      "___________________________________________________________________________________________________________ test_no_overlap ___________________________________________________________________________________________________________\n",
      "\n",
      "    def test_no_overlap():\n",
      ">       assert overlap((1,1,4,4),(4.5,4.5,5,5)) == 0.0\n",
      "E       assert 0.25 == 0.0\n",
      "E        +  where 0.25 = overlap((1, 1, 4, 4), (4.5, 4.5, 5, 5))\n",
      "\n",
      "saskatchewan/test_overlap.py:10: AssertionError\n",
      "======================================================================================================= pytest-warning summary ========================================================================================================\n",
      "WP1 None Modules are already imported so can not be re-written: pytest_cov\n",
      "======================================================================================== 1 failed, 2 passed, 1 pytest-warnings in 0.09 seconds ========================================================================================\n"
     ]
    },
    {
     "data": {
      "text/plain": [
       "1"
      ]
     },
     "execution_count": 5,
     "metadata": {},
     "output_type": "execute_result"
    }
   ],
   "source": [
    "from pytest import main as pytest_main\n",
    "pytest_main([\"saskatchewan\"])"
   ]
  },
  {
   "cell_type": "markdown",
   "metadata": {},
   "source": [
    "Note that it reported **which** test had failed, how many tests ran, and how many failed."
   ]
  },
  {
   "cell_type": "markdown",
   "metadata": {},
   "source": [
    "The symbol `..F` means there were three tests, of which the third one failed."
   ]
  },
  {
   "cell_type": "markdown",
   "metadata": {},
   "source": [
    "Nose will:\n",
    "\n",
    "* automagically finds files ``test_*.py``\n",
    "* collects all subroutines called ``test_*``\n",
    "* runs tests and reports results"
   ]
  },
  {
   "cell_type": "markdown",
   "metadata": {},
   "source": [
    "Some options:\n",
    "\n",
    "* help: `pytest --help`\n",
    "* test only a given file: `pytest test_file.py`\n",
    "* compute coverage: `pytest --with-coverage`"
   ]
  },
  {
   "cell_type": "markdown",
   "metadata": {},
   "source": [
    "## Testing with floating points\n",
    "\n",
    "### Floating points are not reals\n",
    "\n",
    "\n",
    "Floating points are inaccurate representations of real numbers:\n",
    "\n",
    "`1.0 == 0.99999999999999999` is true to the last bit."
   ]
  },
  {
   "cell_type": "code",
   "execution_count": 56,
   "metadata": {
    "collapsed": false
   },
   "outputs": [
    {
     "data": {
      "text/plain": [
       "True"
      ]
     },
     "execution_count": 56,
     "metadata": {},
     "output_type": "execute_result"
    }
   ],
   "source": [
    "1.0 == 0.99999999999999999"
   ]
  },
  {
   "cell_type": "markdown",
   "metadata": {},
   "source": [
    "This can lead to numerical errors during calculations: $1000 (a - b) \\neq 1000a - 1000b$"
   ]
  },
  {
   "cell_type": "code",
   "execution_count": 58,
   "metadata": {
    "collapsed": false
   },
   "outputs": [
    {
     "data": {
      "text/plain": [
       "2.2737367544323206e-13"
      ]
     },
     "execution_count": 58,
     "metadata": {},
     "output_type": "execute_result"
    }
   ],
   "source": [
    "1000.0 * 1.0 - 1000.0 * 0.9999999999999998"
   ]
  },
  {
   "cell_type": "code",
   "execution_count": 59,
   "metadata": {
    "attributes": {
     "classes": [
      " python"
     ],
     "id": ""
    },
    "collapsed": false
   },
   "outputs": [
    {
     "data": {
      "text/plain": [
       "2.220446049250313e-13"
      ]
     },
     "execution_count": 59,
     "metadata": {},
     "output_type": "execute_result"
    }
   ],
   "source": [
    "1000.0 * (1.0 - 0.9999999999999998)"
   ]
  },
  {
   "cell_type": "markdown",
   "metadata": {},
   "source": [
    "*Both* results are wrong: `2e-13` is the correct answer.\n",
    "\n",
    "The size of the error will depend on the magnitude of the floating points:"
   ]
  },
  {
   "cell_type": "code",
   "execution_count": 60,
   "metadata": {
    "attributes": {
     "classes": [
      " python"
     ],
     "id": ""
    },
    "collapsed": false
   },
   "outputs": [
    {
     "data": {
      "text/plain": [
       "1.4901161193847656e-08"
      ]
     },
     "execution_count": 60,
     "metadata": {},
     "output_type": "execute_result"
    }
   ],
   "source": [
    "1000.0 * 1e5 - 1000.0 * 0.9999999999999998e5"
   ]
  },
  {
   "cell_type": "markdown",
   "metadata": {},
   "source": [
    "The result should be `2e-8`."
   ]
  },
  {
   "cell_type": "markdown",
   "metadata": {},
   "source": [
    "### Comparing floating points\n",
    "\n",
    "Comparison can be absolute:"
   ]
  },
  {
   "cell_type": "code",
   "execution_count": 62,
   "metadata": {
    "attributes": {
     "classes": [
      " python"
     ],
     "id": ""
    },
    "collapsed": false
   },
   "outputs": [],
   "source": [
    "from pytest import approx\n",
    "assert 0.7 == approx(0.7 + 1e-6, abs = 1e-5)\n",
    "?approx"
   ]
  },
  {
   "cell_type": "markdown",
   "metadata": {},
   "source": [
    "<div class=\"fragment roll-in\">\n",
    "Or relative:"
   ]
  },
  {
   "cell_type": "code",
   "execution_count": 40,
   "metadata": {
    "attributes": {
     "classes": [
      " python"
     ],
     "id": ""
    },
    "collapsed": false
   },
   "outputs": [],
   "source": [
    "from pytest import approx\n",
    "magnitude = 0.7\n",
    "assert 0.7 == approx(0.7 + 0.7 * 1e-5, rel = 1e-5)"
   ]
  },
  {
   "cell_type": "markdown",
   "metadata": {},
   "source": [
    "Where `magnitude` should be chosen based on the intrinsic scale of the calculations."
   ]
  },
  {
   "cell_type": "markdown",
   "metadata": {},
   "source": [
    "For instance, if calculations is a result of differences between large numbers:"
   ]
  },
  {
   "cell_type": "code",
   "execution_count": 41,
   "metadata": {
    "attributes": {
     "classes": [
      " python"
     ],
     "id": ""
    },
    "collapsed": false
   },
   "outputs": [
    {
     "data": {
      "text/plain": [
       "0.625"
      ]
     },
     "execution_count": 41,
     "metadata": {},
     "output_type": "execute_result"
    }
   ],
   "source": [
    "(1e15 + 1.4) - (1e15 + 0.7)"
   ]
  },
  {
   "cell_type": "markdown",
   "metadata": {},
   "source": [
    "then `magnitude = 1e15` is reasonable. "
   ]
  },
  {
   "cell_type": "markdown",
   "metadata": {},
   "source": [
    "However, the best choice of scale for comparison in scientific floating point testing is an active area of research."
   ]
  },
  {
   "cell_type": "markdown",
   "metadata": {},
   "source": [
    "### Comparing vectors of floating points\n",
    "\n",
    "Numerical vectors are best represented using [numpy](http://www.numpy.org/)."
   ]
  },
  {
   "cell_type": "code",
   "execution_count": 42,
   "metadata": {
    "attributes": {
     "classes": [
      " python"
     ],
     "id": ""
    },
    "collapsed": true
   },
   "outputs": [],
   "source": [
    "from numpy import array, pi\n",
    "\n",
    "vector_of_reals = array([0.1, 0.2, 0.3, 0.4]) * pi"
   ]
  },
  {
   "cell_type": "markdown",
   "metadata": {},
   "source": [
    "Numpy ships with a number of assertions (in ``numpy.testing``) to make\n",
    "comparison easy:"
   ]
  },
  {
   "cell_type": "code",
   "execution_count": 43,
   "metadata": {
    "attributes": {
     "classes": [
      " python"
     ],
     "id": ""
    },
    "collapsed": true
   },
   "outputs": [],
   "source": [
    "from numpy import array, pi\n",
    "from numpy.testing import assert_allclose\n",
    "expected = array([0.1, 0.2, 0.3, 0.4, 1e-12]) * pi\n",
    "actual = array([0.1, 0.2, 0.3, 0.4, 2e-12]) * pi\n",
    "actual[:-1] += 1e-6\n",
    "\n",
    "assert_allclose(actual, expected, rtol=1e-5, atol=1e-8)"
   ]
  },
  {
   "cell_type": "markdown",
   "metadata": {},
   "source": [
    "It compares the difference between `actual` and `expected` to ``atol + rtol * abs(expected)``."
   ]
  }
 ],
 "metadata": {
  "jekyll": {
   "display_name": "Nose"
  },
  "kernelspec": {
   "display_name": "Python 3",
   "language": "python",
   "name": "python3"
  },
  "language_info": {
   "codemirror_mode": {
    "name": "ipython",
    "version": 3
   },
   "file_extension": ".py",
   "mimetype": "text/x-python",
   "name": "python",
   "nbconvert_exporter": "python",
   "pygments_lexer": "ipython3",
   "version": "3.5.2"
  }
 },
 "nbformat": 4,
 "nbformat_minor": 0
}
